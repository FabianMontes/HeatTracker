{
 "cells": [
  {
   "cell_type": "markdown",
   "metadata": {},
   "source": [
    "# Zonas Seguras y registro de Caminos"
   ]
  },
  {
   "cell_type": "markdown",
   "metadata": {},
   "source": [
    "## Contexto y Teoria"
   ]
  },
  {
   "cell_type": "markdown",
   "metadata": {},
   "source": [
    "Este proyecto es un complemento propio que busca de forma alterna mejorar el analisis y la visualización de los sistemas de deteccion.\n",
    "\n",
    "Un sistema de deteccion hace referencia a un sistema de vigilancia con camara, el cual tiene la capacidad de reconocer objetos que aparecen el la imagen detectada, en la mayoria de los casos humanos.\n",
    "Cuando el sistema detecta un objeto de interes captura la imagen y lo guarda, en algunos casos es posible no solo guardar la lista de imagenes capturadas, sino la lista de coordenadas que registran a los objetos de interes, este proyecto busca trabajar con dichas coordenadas y facilitar el analizis de grandes grupos de datos para generar un mapa que permita conocer los caminos donde la concurrencia de los objetos de interes es mayor, o detectar lugares donde esa concurrencia es nula.\n",
    "\n",
    "\n"
   ]
  },
  {
   "cell_type": "markdown",
   "metadata": {},
   "source": [
    "En este proyecto vamos a referirnos a la imagen objetivo como el mapa de calor del lugar, esto como referencia a que buscamos los caminos donde podriamos encontrar objetos de interes, donde de forma divertida le podemos decir caliente o frio segun que tan lejos o cerca estamos de ese objeto.\n",
    "\n",
    "Para realizar esta imagen se realizara un objeto de pintado, donde a una imagen en negro se le pondra una capa de blanco encima en cada sitio que estuviera un objeto de interes, como dejando un rastro, con lo que al final todas las coordenadas nos debe quedar una imagen con diversos blancos de intensidad segun cuanto pintamos en cada lugar.\n",
    "\n",
    "las imagenes tienen una ubicacion donde la esquina superior izquierda es 0,0 y la inferior derecha es el maximo tanto en X como en Y.\n",
    "\n",
    "Cabe resaltar que los objetos de interes estan representados como cuadrados con dos coordenadas, esquina superior izquierda como inicio de figura, y esquina inferior derecha como final del cuadrado, y se representan como cuadrados debido que es la forma que el programa de deteccion de objetos lo almacena, asi que por facilidad se realizo compatibilidad con ese proyecto."
   ]
  },
  {
   "cell_type": "markdown",
   "metadata": {},
   "source": [
    "## Objetivos"
   ]
  },
  {
   "cell_type": "markdown",
   "metadata": {},
   "source": [
    "1. Vamos a realizar un programa que con dada una lista de coordenadas que representan un objeto de interes genere una imagen que represente la frecuencia en cada posicion de dicho objeto.\n",
    "\n",
    "2. Tambien se busca que esta imagen se pueda guardar de forma comoda para el uso en otras aplicaciones.\n",
    "3. Es deseable que la imagen se separe tambien  de forma que se pueda visualizr de forma separada las zonas con mayor o menos frecuencia.\n",
    "4. Crear un metodo para simular las coordenadas y por lo cual tener ejemplos previsibles que probar."
   ]
  },
  {
   "cell_type": "markdown",
   "metadata": {},
   "source": [
    "## Codigo"
   ]
  },
  {
   "cell_type": "markdown",
   "metadata": {},
   "source": [
    "### Instalar e importar las librerias usadas"
   ]
  },
  {
   "cell_type": "markdown",
   "metadata": {},
   "source": [
    "Se descarga la libreria tifffile para tener la capacidad de leer y generar archivos en .tiff\n",
    "Se utiliza esta terminacion debido a dos razones, la primera es que tiff guarda valores precisos, lo que nos permite tener valores mas complejos y precisos al realizar el proceso, si fueran imagenes normales como png las unidades serian int8, que son enteros de 0 a 255, en tiff podemos usar el mismo rango si lo deseamos pero trabajar con valores flotantes de 32 o 64 bites, en nuestro caso decidimos trabajar con valores flotantes de 32 bits.\n",
    "\n",
    "La segunda razon es que tiff puede guardar paginas, lo que nos permite guardar en un mismo archivo el mapa de calor, y sus diversas capas deseadas,\n",
    "siendo una capa los lugares donde se pasa con entre X frecuencias para facilitar el analisis y busqueda."
   ]
  },
  {
   "cell_type": "code",
   "execution_count": 14,
   "metadata": {},
   "outputs": [
    {
     "name": "stdout",
     "output_type": "stream",
     "text": [
      "Requirement already satisfied: tifffile in c:\\users\\user\\appdata\\local\\packages\\pythonsoftwarefoundation.python.3.10_qbz5n2kfra8p0\\localcache\\local-packages\\python310\\site-packages (2024.8.30)\n",
      "Requirement already satisfied: numpy in c:\\users\\user\\appdata\\local\\packages\\pythonsoftwarefoundation.python.3.10_qbz5n2kfra8p0\\localcache\\local-packages\\python310\\site-packages (from tifffile) (1.24.2)\n",
      "Note: you may need to restart the kernel to use updated packages.\n"
     ]
    },
    {
     "name": "stderr",
     "output_type": "stream",
     "text": [
      "WARNING: There was an error checking the latest version of pip.\n"
     ]
    }
   ],
   "source": [
    "%pip install tifffile"
   ]
  },
  {
   "cell_type": "markdown",
   "metadata": {},
   "source": [
    "Las librerias que usaremos en totalidad seran numpy, tifffile y random.\n",
    "Previamente se explico la razon de tiffile, random sera usado para la generacion de coordenadas del 4 objetivo.\n",
    "En python la mejor forma para generar analizar y editar arreglos es con la libreria numpy, tanto asi que pasar de tifffile  a numpy y al contrario se realiza de forma natural (al igual que con otros lectores de imagenes)."
   ]
  },
  {
   "cell_type": "code",
   "execution_count": 15,
   "metadata": {},
   "outputs": [],
   "source": [
    "import numpy as np\n",
    "import tifffile\n",
    "import random\n"
   ]
  },
  {
   "cell_type": "markdown",
   "metadata": {},
   "source": [
    "### Procesamiento de archivos\n"
   ]
  },
  {
   "cell_type": "markdown",
   "metadata": {},
   "source": [
    "\n",
    "Lo primero que necesitamos para analizar las coordenadas son los datos, para importar o crear la imagen se creo la funcion procesar_entrada().\n",
    "\n",
    "procesar_entrada recibe el nombre con extension de la imagen de referencia, ej. 'mapaDeCalor.tiff' (cuando se encuentra en la misma carpeta del archivo), o el tamaño a analizar de la imagen definidos en n y m.\n",
    "\n",
    "el codigo se divide en dos partes, la primera que accede si la direccion de imagen 'imagenDir' existe, con lo cual utilizando la libreria tifffle lee el archivo en esa direccion, guarda la primera pagina del archivo en 'heatValue', que representa el mapa de calor previo o existente, si existen mas paginas las guarda como extras, por ultimo guarda en 'size' el tamaño de 'heatValue' y devuelve ambos, para usarse en otros lados.\n",
    "\n",
    "en caso de no existir direccion de archivo, procesar_entrada toma n y m y genera un numpy de zeros de ese tamaño para 'heatValue', este numpy es una matriz que representa la imagen, en cualquiera de los dos casos tomados, tambien se a de mencionar que la razon por la que es un arreglo de zeros es debido a que 0 equivale a negro en color, como mencionamos arriba queremos un lienzo en negro."
   ]
  },
  {
   "cell_type": "code",
   "execution_count": 16,
   "metadata": {},
   "outputs": [],
   "source": [
    "def procesar_entrada(imagenDir=None, n=None, m=None):\n",
    "\n",
    "    if imagenDir is not None:\n",
    "        with tifffile.TiffFile(imagenDir) as tiff:\n",
    "            num_paginas = len(tiff.pages)\n",
    "    \n",
    "            if num_paginas > 1:\n",
    "                print(\"El archivo TIFF es multipágina.\")\n",
    "                \n",
    "                # Leer la primera página\n",
    "                heatValue = tiff.pages[0].asarray()\n",
    "                size = heatValue.shape\n",
    "                print(\"Primera página leída con tamaño:\", heatValue.shape)\n",
    "                \n",
    "                # Leer las páginas restantes\n",
    "                extrasCapas = [tiff.pages[i].asarray() for i in range(1, num_paginas)]\n",
    "                print(f\"Leídas {len(extrasCapas)} páginas adicionales.\")\n",
    "            else:\n",
    "                print(\"El archivo TIFF es de una sola página.\")\n",
    "                # Leer la imagen\n",
    "                heatValue = tiff.pages[0].asarray()\n",
    "                size = heatValue.shape\n",
    "                print(\"Imagen leída con tamaño:\", heatValue.shape)\n",
    "    elif n is not None and m is not None:\n",
    "        size =[n,m]\n",
    "        # Crear una imagen vacía (negra) de tamaño n x m\n",
    "        heatValue = np.zeros((n, m),  dtype=np.float32)\n",
    "        print(f\"Imagen de tamaño {n} x {m} creada.\")\n",
    "    \n",
    "    else:\n",
    "        raise ValueError(\"Se debe proporcionar una imagen o los valores n y m.\")\n",
    "    return heatValue, size"
   ]
  },
  {
   "cell_type": "markdown",
   "metadata": {},
   "source": [
    "GuardarArchivo es una funcion que realiza lo opuesto a procesar_entrada, recibe el nombre del archivo destino en 'nombreDeArchivo',el mapa de calor en 'heatValue', y si se guardaran las paginas extras donde mostraremos los diversos mapas secundarios se puede dar 'multiple' que al ser verdadero realiza ese proceso junto con 'extras' que contiene esas paginas extra."
   ]
  },
  {
   "cell_type": "code",
   "execution_count": 17,
   "metadata": {},
   "outputs": [],
   "source": [
    "def guardarArchivo(nombreDeArchivo,heatValue, direccion =None,multiple =False,extras = None):\n",
    "    with tifffile.TiffWriter(nombreDeArchivo+\".tiff\") as tiff:\n",
    "        tiff.write(heatValue)\n",
    "        if(multiple and extras != None):\n",
    "            for i in range(len(extras)):\n",
    "                tiff.write(extras[i])\n",
    "\n"
   ]
  },
  {
   "cell_type": "markdown",
   "metadata": {},
   "source": [
    "#### Generacion de coordenadas\n"
   ]
  },
  {
   "cell_type": "markdown",
   "metadata": {},
   "source": [
    "\n",
    "Dentro de los archivos existe uno que va con los objetivos de forma indirecta, en el siguiente bloque definimos como se van a simular una serie de coordenadas y guardarlas.\n",
    "\n",
    "En estas funciones hay tres variables recurrentes en significado\n",
    "\n",
    "r = cantidad de coordenadas deseadas.\n",
    "n = cantidad de filas de la imagen\n",
    "m = cantidad de columnss de la imagen\n",
    "\n",
    "procesoRandom(), \n",
    "tomando esos tres valores da genera todas las combinaciones posibles de coordenadas XY1,XY2, donde XY1 sea menor a XY2, luego usando la libreria random nos da un muestra de tamaño r de esas coordenadas, que al incluir todas nos da una muestra aleatoria de coordenadas.\n",
    "\n",
    "cubePlay(), busca simular mas el camino de un objeto de interes en la imagen.\n",
    "creando un punto centrado en alguno de los bordes de la imagen y un tamaño aleatorio relativo al tamaño de la imagen, emula r veces el proceso del cubo desde su punto inicial moviendose dentro de la imagen, lo que suele dar dos puntos de alta frecuencia o incluso uin camino visible.\n",
    "\n"
   ]
  },
  {
   "cell_type": "code",
   "execution_count": 18,
   "metadata": {},
   "outputs": [],
   "source": [
    "def procesoRandom(r,n,m):\n",
    "    valoresX = list(range(0, m))\n",
    "    valoresY = list(range(0, n))\n",
    "\n",
    "    parX = [(a, b) for i, a in enumerate(valoresX) for b in valoresX[i+1:]]\n",
    "    parY = [(a, b) for i, a in enumerate(valoresY) for b in valoresY[i+1:]]\n",
    "    \n",
    "    # Seleccionar n pares aleatorios\n",
    "    duplasX = random.sample(parX, n)\n",
    "    duplasY = random.sample(parY, n)\n",
    "\n",
    "    cords = [[[d1[0],d2[0]],[d1[1],d2[1]]] for d1, d2 in zip(duplasX, duplasY)]\n",
    "\n",
    "    duplas = random.sample(cords, r)\n",
    "    \n",
    "    return duplas\n",
    "\n",
    "def cubePlay(r,n,m):\n",
    "    center =[0,0]\n",
    "    exi = random.randint(0,3)\n",
    "    if(exi ==0):\n",
    "        center = [0,random.randint(0,n)]\n",
    "    elif(exi ==1):\n",
    "        center = [m,random.randint(0,n)]\n",
    "    elif(exi ==2):\n",
    "        center = [random.randint(0,m),0]\n",
    "    else:\n",
    "        center = [random.randint(0,m),n]\n",
    "\n",
    "    \n",
    "    mel = min(n,m)\n",
    "    rad = random.randint(mel/8,mel/4)\n",
    "\n",
    "    \n",
    "    duplas = []\n",
    "\n",
    "    for i in range(r):\n",
    "\n",
    "        \n",
    "        x1 =center[0]-rad\n",
    "        x2 =center[0]+rad\n",
    "\n",
    "        x1 = 0 if x1<0 else x1\n",
    "\n",
    "        x2 = m if x2>m else x2\n",
    "\n",
    "        y1 =center[1]-rad\n",
    "        y2 =center[1]+rad\n",
    "\n",
    "        y1 = 0 if y1<0 else y1\n",
    "\n",
    "        y2 = n if y2>n else y2\n",
    "\n",
    "        duplas.append([[x1,y1],[x2,y2]])\n",
    "\n",
    "        move = [random.randint(-mel*0.2,mel*0.2),random.randint(-mel*0.2,mel*0.2)]\n",
    "\n",
    "        move[0] = (-1 if (center[0]+move[0]<0 or center[0]+move[0]>m) else 1) * move[0]\n",
    "        move[1] = (-1 if (center[1]+move[1]<0 or center[1]+move[1]>n) else 1) * move[1]\n",
    "\n",
    "        center =[center[0]+move[0],center[1]+move[1]]\n",
    "        \n",
    "\n",
    "    return duplas\n",
    "    \n"
   ]
  },
  {
   "cell_type": "markdown",
   "metadata": {},
   "source": [
    "generarProces(), esta funcion genera el muestreo con una variable randomm, utilizando esta variable para decidir entre las dos funciones previas para generar las coordenadas.\n",
    "\n",
    "GuardarCords(), recibe la lista de coordenadas y el nombre del archivo, con lo que procede a guardar cada coordenada en un txt para leer luego.\n",
    "\n",
    "LeerCoordenadas(), recibe el nombre del archivo sin .txt, busca el archivo y retorna la lista de coordenadas."
   ]
  },
  {
   "cell_type": "code",
   "execution_count": null,
   "metadata": {},
   "outputs": [],
   "source": [
    "\n",
    "\n",
    "def generarProces(r,n,m,randomm = True):\n",
    "    if(randomm):\n",
    "        return procesoRandom(r,n,m)\n",
    "    else:\n",
    "        return cubePlay(r,n,m)\n",
    "    \n",
    "\n",
    "def GuardarCords(cordss,name):\n",
    "    with open(name+'.txt', 'w') as f:\n",
    "        for coord in cordss:\n",
    "            f.write(f\"{coord}\\n\")\n",
    "\n",
    "    print(\"Coordenadas guardadas en '\"+name+\"'.txt'.\")\n",
    "\n",
    "def LeerCoordenadas(name):\n",
    "    coordenadas_leidas = []\n",
    "    with open(name+'.txt', 'r') as f:\n",
    "        for line in f:\n",
    "            coordenadas_leidas.append(eval(line.strip()))\n",
    "\n",
    "    return coordenadas_leidas "
   ]
  },
  {
   "cell_type": "markdown",
   "metadata": {},
   "source": [
    "aqui mostramos el proceso mas simple para guardar 100 coordenadas en una iumagen 1280*720, utilizando la funcion cubePlay para randomizar."
   ]
  },
  {
   "cell_type": "code",
   "execution_count": 19,
   "metadata": {},
   "outputs": [
    {
     "name": "stdout",
     "output_type": "stream",
     "text": [
      "Coordenadas guardadas en 'coordenadas'.txt'.\n"
     ]
    }
   ],
   "source": [
    "name = \"coordenadas\"\n",
    "GuardarCords(generarProces(100,1280,720,False),name)"
   ]
  },
  {
   "cell_type": "markdown",
   "metadata": {},
   "source": [
    "### Mapa de Calor"
   ]
  },
  {
   "cell_type": "markdown",
   "metadata": {},
   "source": [
    "!(advertencia)\n",
    "Debido al funcionamiento de python las funciones se encuentran en orden de profundidad (primero aquellas que son llamadas por otras) por lo que las que se mostraran siguientes no tienen mucho contexto de su uso hasta llegar mas adelante."
   ]
  },
  {
   "cell_type": "markdown",
   "metadata": {},
   "source": [
    "#### Manejo de matrices y desviaciones\n"
   ]
  },
  {
   "cell_type": "markdown",
   "metadata": {},
   "source": [
    "\n",
    "Para  manipular la informacion dentro de las matrices se generaron diversas funciones con diferentes objetivos:\n",
    "\n",
    "normalizar_matriz(), la mas directa funcion, recibe una matriz numpy, y la busca convertir a un rango 0 a 1 segun su minimo y maximo respectivamente.\n",
    "Por fuerza para nuestro caso el minimo de la matriz no normalizada siempre sera 0 incluso si se cubiera toda la imagen alguna vez para la correcta relacion, por lo que mientras el maximo de la matriz sea diferente de 0 podemos dividir cada valor de la matriz por el maximo, que con numpy se realiza como si la matriz fuera un valor unico.\n",
    "\n",
    "A la hora de comparar dos imagenes de Calor se buscaron dos metodos diferentes, uno donde se realiza por pesos, y otro por experiencia.\n",
    "\n",
    "CalcularNuevaDesviacionAlfa(), calcula los valores nuevos al combinar una imagen de calor vieja y una nueva, este proceso depende de un 'alpha', que es el peso de la imagen vieja, siendo el nuevo valor del mapa la suma de pesos de el mapa viejo y el nuevo, el peso del mapa nuevo es 1-'alpha', lo que nos da una aproximacion bastante consistente y nos permite considerar que tan  importante queremos que sea el nuevo mapa en el aprendizaje.\n",
    "\n",
    "CalculaNuevaDesviacion(), calcula los valores nuevos al combinar una imagen de calor vieja y una nueva, busca trabajar con un sistema de pesos individual para cada posicion, en la cual ese peso es el mapa viejo (tomandolo como que tan importante es ese lugar para modificarlo),  a este peso le multiplicamos con la diferencia del nuevo y el viejo mapa, que nos da que tan diferentes son los datos entre si, junto con la direccion a la que el nuevo mapa desea que se cambie el viejo.\n"
   ]
  },
  {
   "cell_type": "code",
   "execution_count": 20,
   "metadata": {},
   "outputs": [],
   "source": [
    "def normalizar_matriz(matriz):\n",
    "    #convierte la matriz a un rango de 0 a 1\n",
    "    max_val = np.max(matriz)\n",
    "    if max_val == 0:\n",
    "        return matriz  # Evitar división por cero si todos los valores son iguales\n",
    "    return (matriz) / (max_val)\n",
    "\n",
    "def CalcularNuevaDesviacionAlfa(preHeat, newHeat,alpha): ## formula para calcular el efecto del video sobre los datos previos, utilizando un valor alfa de peso\n",
    "    # Calcular con el facvotr de suavisado\n",
    "    newnewHeat = alpha*preHeat + (1-alpha) * newHeat\n",
    "    return newnewHeat\n",
    "\n",
    "def CalcularNuevaDesviacion(preHeat, newHeat): ## formula para calcular el efecto del video sobre los datos previos,\n",
    "    \n",
    "    diferencia = preHeat - newHeat\n",
    "    \n",
    "    producto = preHeat * diferencia\n",
    "\n",
    "    # Calcular el nuevo valor\n",
    "    newnewHeat = preHeat + producto\n",
    "\n",
    "    return newnewHeat\n",
    "\n"
   ]
  },
  {
   "cell_type": "markdown",
   "metadata": {},
   "source": [
    "#### Pintar las coordenadas y agregarlas al lienzo antiguo\n",
    "\n",
    "procesarCamino(), en este proceso juntamos todo lo que hemos almacenado para crear el mapa de calor, \n",
    "\n",
    "creamos un lienzo en negro y lo pintamos en uno cada vez que en esa posicion se detecto un objeto de interes.\n",
    "luego normalizamos tanto el nuevo mapa como el viejo, \n",
    "dependiendo si se quiere usar o no alfa usamos una funcion de desviacion diferente.\n",
    "y por ultimo retornamos elnuevo mapa normalizado."
   ]
  },
  {
   "cell_type": "code",
   "execution_count": 21,
   "metadata": {},
   "outputs": [],
   "source": [
    "def procesarCamino(heatValue,size,newPath,calor=False, alpha = 1):\n",
    "    \n",
    "    newHeat = np.zeros(heatValue.shape,  dtype=np.float32)\n",
    "    \n",
    "    for (x1, y1), (x2, y2) in newPath:\n",
    "        newHeat[x1:x2+1, y1:y2+1] += 1\n",
    "    # Normalizar la matriz a un rango de 0 a 255\n",
    "    newHeat = normalizar_matriz(newHeat)\n",
    "    heatValue = normalizar_matriz(heatValue)\n",
    "    if(calor):\n",
    "        newHeat = CalcularNuevaDesviacionAlfa(heatValue,newHeat,alpha)\n",
    "    else:\n",
    "        newHeat = CalcularNuevaDesviacion(heatValue,newHeat)\n",
    "        \n",
    "    return newHeat"
   ]
  },
  {
   "cell_type": "markdown",
   "metadata": {},
   "source": [
    "## Muestra por partes\n",
    "\n",
    "dividirPorFases(), esta funcion toma un mapa y un valor de division, ya sea en cuanto porcentaje vale cada division, o cuantas divisiones desea.\n",
    "\n",
    "con esto crea una lista de copias en negro de el mapa, y recorriendolo por completo pinta en cada copia donde los valores entran dentro de su particion.\n",
    "\n",
    "estos valores quedan en unit8 debido a que la imagn solo guarda blanco y negro si esta o no en el rango."
   ]
  },
  {
   "cell_type": "code",
   "execution_count": 22,
   "metadata": {},
   "outputs": [],
   "source": [
    "def dividirPorFases(mapa, division, porcent=True):\n",
    "    percent = 1\n",
    "    raz = 1\n",
    "    filas,columnas = mapa.shape\n",
    "\n",
    "    if(not porcent):\n",
    "        raz = int(division)\n",
    "        percent = 1/division \n",
    "    else:\n",
    "        raz = int(1/division)\n",
    "        percent = division \n",
    "    extra = []\n",
    "\n",
    "    for k in range(raz):\n",
    "        print(percent*k*255)\n",
    "        copy  = np.zeros(mapa.shape,dtype=np.uint8)\n",
    "        for i in range(filas):\n",
    "            for j in range(columnas):\n",
    "                if(mapa[i,j]>=percent*k and mapa[i,j]<=percent*(k+1)):\n",
    "                    copy[i,j] =255\n",
    "        extra.append(copy)\n",
    "\n",
    "    return extra\n",
    "\n",
    "\n",
    "\n"
   ]
  },
  {
   "cell_type": "markdown",
   "metadata": {},
   "source": [
    "procesamientoCaminos(), este metodo almacena todos los procesos previos para poder realizar un mapa dandole solo el nombre del archivo, para que busque las coordenadas en el archivo coordenadas.\n",
    "\n",
    "procesamientoCaminosNN(), este archivo realiza el mismo proceso pero no toma una imagen previa, por lo que el proceso es totalmente nuevo."
   ]
  },
  {
   "cell_type": "code",
   "execution_count": 23,
   "metadata": {},
   "outputs": [],
   "source": [
    "def procesamientoCaminos(name,n=720,m=1280,calor=True,alpha=0.75,divisions=5):\n",
    "    heatValue,size = procesar_entrada(name+\".tiff\", n=n,m=m)\n",
    "    newPath = LeerCoordenadas(\"coordenadas\")\n",
    "    # Dimensiones de la imagen (n: alto, m: ancho\n",
    "    newheatValue = procesarCamino(heatValue,size,newPath,calor,alpha)\n",
    "    extrasCapas = dividirPorFases(newheatValue,division=5,porcent=False)\n",
    "\n",
    "    guardarArchivo(name,newheatValue,multiple=True,extras=extrasCapas)\n",
    "\n",
    "def procesamientoCaminosNN(name,n=720,m=1280,calor=True,alpha=0.0,divisions=5):\n",
    "    heatValue,size = procesar_entrada(n=n,m=m)\n",
    "    newPath = LeerCoordenadas(\"coordenadas\")\n",
    "    # Dimensiones de la imagen (n: alto, m: ancho\n",
    "    newheatValue = procesarCamino(heatValue,size,newPath,calor,alpha)\n",
    "    extrasCapas = dividirPorFases(newheatValue,division=5,porcent=False)\n",
    "\n",
    "    guardarArchivo(name,newheatValue,multiple=True,extras=extrasCapas)"
   ]
  },
  {
   "cell_type": "markdown",
   "metadata": {},
   "source": [
    "Aqui tenemos un ejemplo de como se llama a un nuevo mapa de calor, generando nuevas coordenadas para este."
   ]
  },
  {
   "cell_type": "code",
   "execution_count": 26,
   "metadata": {},
   "outputs": [
    {
     "name": "stdout",
     "output_type": "stream",
     "text": [
      "Coordenadas guardadas en 'coordenadas'.txt'.\n",
      "mapaDeCalor.tiff\n",
      "El archivo TIFF es multipágina.\n",
      "Primera página leída con tamaño: (720, 1280)\n",
      "Leídas 5 páginas adicionales.\n",
      "5.0\n",
      "0.3125\n",
      "0.0\n"
     ]
    },
    {
     "name": "stderr",
     "output_type": "stream",
     "text": [
      "C:\\Users\\User\\AppData\\Local\\Temp\\ipykernel_21344\\2566342434.py:14: RuntimeWarning: invalid value encountered in divide\n",
      "  direccion = np.where(magnitud_diferencia == 0, 0, diferencia / magnitud_diferencia)  # saber la direccion en la que nos desviamos si el valor es el mismo no debe haber cambio por ende es 0\n"
     ]
    },
    {
     "name": "stdout",
     "output_type": "stream",
     "text": [
      "51.0\n",
      "102.0\n",
      "153.00000000000003\n",
      "204.0\n"
     ]
    }
   ],
   "source": [
    "name = \"coordenadas\"\n",
    "GuardarCords(generarProces(100,1280,720,False),name)\n",
    "procesamientoCaminosNN('mapaDeCalor',calor=False)\n",
    "\n"
   ]
  }
 ],
 "metadata": {
  "kernelspec": {
   "display_name": "Python 3",
   "language": "python",
   "name": "python3"
  },
  "language_info": {
   "codemirror_mode": {
    "name": "ipython",
    "version": 3
   },
   "file_extension": ".py",
   "mimetype": "text/x-python",
   "name": "python",
   "nbconvert_exporter": "python",
   "pygments_lexer": "ipython3",
   "version": "3.10.11"
  }
 },
 "nbformat": 4,
 "nbformat_minor": 2
}
